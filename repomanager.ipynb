{
 "cells": [
  {
   "cell_type": "code",
   "execution_count": 676,
   "metadata": {},
   "outputs": [],
   "source": [
    "from github import Github,Auth\n",
    "from IPython.display import HTML\n",
    "from decouple import config\n",
    "from jinja2 import Environment, FileSystemLoader\n"
   ]
  },
  {
   "cell_type": "code",
   "execution_count": 677,
   "metadata": {},
   "outputs": [],
   "source": [
    "g = Github(auth=Auth.Token(config(\"GITHUB_TOKEN\")))"
   ]
  },
  {
   "cell_type": "code",
   "execution_count": 678,
   "metadata": {},
   "outputs": [
    {
     "data": {
      "text/plain": [
       "'Giorgio Caizzi'"
      ]
     },
     "execution_count": 678,
     "metadata": {},
     "output_type": "execute_result"
    }
   ],
   "source": [
    "g.get_user().name"
   ]
  },
  {
   "cell_type": "code",
   "execution_count": 679,
   "metadata": {},
   "outputs": [],
   "source": [
    "repos = [repo for repo in g.get_user().get_repos() if repo.name in [\"pysurfline\",\"py3dinterpolations\",\"repomanager\"]]"
   ]
  },
  {
   "cell_type": "code",
   "execution_count": 680,
   "metadata": {},
   "outputs": [
    {
     "data": {
      "text/plain": [
       "3"
      ]
     },
     "execution_count": 680,
     "metadata": {},
     "output_type": "execute_result"
    }
   ],
   "source": [
    "len(repos)"
   ]
  },
  {
   "cell_type": "code",
   "execution_count": 681,
   "metadata": {},
   "outputs": [
    {
     "data": {
      "text/plain": [
       "<github.PaginatedList.PaginatedList at 0x10c933790>"
      ]
     },
     "execution_count": 681,
     "metadata": {},
     "output_type": "execute_result"
    }
   ],
   "source": [
    "repos[0].get_issues()"
   ]
  },
  {
   "cell_type": "code",
   "execution_count": 682,
   "metadata": {},
   "outputs": [],
   "source": [
    "repo_contents = [\n",
    "    {\n",
    "        \"Name\":repo.name,\n",
    "        \"Language\":repo.language,\n",
    "        \"Description\":repo.description,\n",
    "        \"Url\":repo.url,\n",
    "        \"Issues\":{\n",
    "            \"Open\":sum([issue.state == \"open\" for issue in repo.get_issues()]),\n",
    "            \"Closed\":sum([issue.state == \"closed\" for issue in repo.get_issues()]),\n",
    "            }\n",
    "    } for repo in repos\n",
    "]"
   ]
  },
  {
   "cell_type": "code",
   "execution_count": 683,
   "metadata": {},
   "outputs": [
    {
     "data": {
      "text/plain": [
       "[{'Name': 'py3dinterpolations',\n",
       "  'Language': 'Python',\n",
       "  'Description': None,\n",
       "  'Url': 'https://api.github.com/repos/giocaizzi/py3dinterpolations',\n",
       "  'Issues': {'Open': 9, 'Closed': 0}},\n",
       " {'Name': 'pysurfline',\n",
       "  'Language': 'Python',\n",
       "  'Description': 'Python Surfline API',\n",
       "  'Url': 'https://api.github.com/repos/giocaizzi/pysurfline',\n",
       "  'Issues': {'Open': 2, 'Closed': 0}},\n",
       " {'Name': 'repomanager',\n",
       "  'Language': 'Jupyter Notebook',\n",
       "  'Description': None,\n",
       "  'Url': 'https://api.github.com/repos/giocaizzi/repomanager',\n",
       "  'Issues': {'Open': 0, 'Closed': 0}}]"
      ]
     },
     "execution_count": 683,
     "metadata": {},
     "output_type": "execute_result"
    }
   ],
   "source": [
    "repo_contents"
   ]
  },
  {
   "cell_type": "code",
   "execution_count": 684,
   "metadata": {},
   "outputs": [],
   "source": [
    "# Set up the environment\n",
    "env = Environment(loader=FileSystemLoader('.'))\n",
    "template = env.get_template('template.html')"
   ]
  },
  {
   "cell_type": "code",
   "execution_count": 685,
   "metadata": {},
   "outputs": [],
   "source": [
    "# html = template.render(repos=[vars(repo) for repo in repos])\n",
    "html = template.render(repos=repo_contents)"
   ]
  },
  {
   "cell_type": "code",
   "execution_count": 686,
   "metadata": {},
   "outputs": [
    {
     "data": {
      "text/html": [
       "<!DOCTYPE html>\n",
       "<html>\n",
       "<head>\n",
       "<style>\n",
       "body {\n",
       "  font-family: Arial, sans-serif;\n",
       "}\n",
       "\n",
       ".container {\n",
       "  margin: 0 auto;\n",
       "}\n",
       "\n",
       "h1 {\n",
       "  text-align: center;\n",
       "  font-size: 36px;\n",
       "  margin-bottom: 30px;\n",
       "}\n",
       "\n",
       "table {\n",
       "  width: 100%;\n",
       "  border-collapse: collapse;\n",
       "}\n",
       "\n",
       "table, th, td {\n",
       "  border: 1px solid black;\n",
       "  padding: 3px;\n",
       "}\n",
       "\n",
       "th {\n",
       "  text-align: left;\n",
       "  font-style: italic;\n",
       "  background-color: #afafaf;\n",
       "}\n",
       "\n",
       "td a {\n",
       "  color: #0645AD;\n",
       "  text-decoration: none;\n",
       "}\n",
       "\n",
       "td a:hover {\n",
       "  text-decoration: underline;\n",
       "}\n",
       "\n",
       "td {\n",
       "  text-align: center;\n",
       "}\n",
       "\n",
       "/* nested levels */\n",
       "table table {\n",
       "  width: auto;\n",
       "  margin: auto;\n",
       "  border-collapse: collapse;\n",
       "}\n",
       "\n",
       "table table tr th,table table tr td {\n",
       "  font-size: x-small;\n",
       "\n",
       "}\n",
       "\n",
       "table table tr th {\n",
       "  background-color: #f1f1f1;\n",
       "  \n",
       "}\n",
       "\n",
       "</style>\n",
       "</head>\n",
       "\n",
       "\n",
       "\n",
       "<body>\n",
       "\n",
       "<div class=\"container\">\n",
       "\n",
       "  <h1>Repository Manager</h1>\n",
       "\n",
       "  <table>\n",
       "    \n",
       "    <tr>\n",
       "      <th>Name</th>\n",
       "      \n",
       "      \n",
       "      \n",
       "  \n",
       "    <td>py3dinterpolations</td>\n",
       "  \n",
       "\n",
       "      \n",
       "      \n",
       "      \n",
       "      \n",
       "  \n",
       "    <td>pysurfline</td>\n",
       "  \n",
       "\n",
       "      \n",
       "      \n",
       "      \n",
       "      \n",
       "  \n",
       "    <td>repomanager</td>\n",
       "  \n",
       "\n",
       "      \n",
       "      \n",
       "    </tr>\n",
       "    \n",
       "    <tr>\n",
       "      <th>Language</th>\n",
       "      \n",
       "      \n",
       "      \n",
       "  \n",
       "    <td>Python</td>\n",
       "  \n",
       "\n",
       "      \n",
       "      \n",
       "      \n",
       "      \n",
       "  \n",
       "    <td>Python</td>\n",
       "  \n",
       "\n",
       "      \n",
       "      \n",
       "      \n",
       "      \n",
       "  \n",
       "    <td>Jupyter Notebook</td>\n",
       "  \n",
       "\n",
       "      \n",
       "      \n",
       "    </tr>\n",
       "    \n",
       "    <tr>\n",
       "      <th>Description</th>\n",
       "      \n",
       "      \n",
       "      \n",
       "  \n",
       "    <td>None</td>\n",
       "  \n",
       "\n",
       "      \n",
       "      \n",
       "      \n",
       "      \n",
       "  \n",
       "    <td>Python Surfline API</td>\n",
       "  \n",
       "\n",
       "      \n",
       "      \n",
       "      \n",
       "      \n",
       "  \n",
       "    <td>None</td>\n",
       "  \n",
       "\n",
       "      \n",
       "      \n",
       "    </tr>\n",
       "    \n",
       "    <tr>\n",
       "      <th>Url</th>\n",
       "      \n",
       "      \n",
       "      \n",
       "  \n",
       "    <td>https://api.github.com/repos/giocaizzi/py3dinterpolations</td>\n",
       "  \n",
       "\n",
       "      \n",
       "      \n",
       "      \n",
       "      \n",
       "  \n",
       "    <td>https://api.github.com/repos/giocaizzi/pysurfline</td>\n",
       "  \n",
       "\n",
       "      \n",
       "      \n",
       "      \n",
       "      \n",
       "  \n",
       "    <td>https://api.github.com/repos/giocaizzi/repomanager</td>\n",
       "  \n",
       "\n",
       "      \n",
       "      \n",
       "    </tr>\n",
       "    \n",
       "    <tr>\n",
       "      <th>Issues</th>\n",
       "      \n",
       "      \n",
       "      \n",
       "  \n",
       "    <td>\n",
       "      <table>\n",
       "        \n",
       "        <tr>\n",
       "          <th>Open</th>\n",
       "          \n",
       "  \n",
       "    <td>9</td>\n",
       "  \n",
       "\n",
       "        </tr>\n",
       "        \n",
       "        <tr>\n",
       "          <th>Closed</th>\n",
       "          \n",
       "  \n",
       "    <td>0</td>\n",
       "  \n",
       "\n",
       "        </tr>\n",
       "        \n",
       "      </table>\n",
       "    </td>\n",
       "  \n",
       "\n",
       "      \n",
       "      \n",
       "      \n",
       "      \n",
       "  \n",
       "    <td>\n",
       "      <table>\n",
       "        \n",
       "        <tr>\n",
       "          <th>Open</th>\n",
       "          \n",
       "  \n",
       "    <td>2</td>\n",
       "  \n",
       "\n",
       "        </tr>\n",
       "        \n",
       "        <tr>\n",
       "          <th>Closed</th>\n",
       "          \n",
       "  \n",
       "    <td>0</td>\n",
       "  \n",
       "\n",
       "        </tr>\n",
       "        \n",
       "      </table>\n",
       "    </td>\n",
       "  \n",
       "\n",
       "      \n",
       "      \n",
       "      \n",
       "      \n",
       "  \n",
       "    <td>\n",
       "      <table>\n",
       "        \n",
       "        <tr>\n",
       "          <th>Open</th>\n",
       "          \n",
       "  \n",
       "    <td>0</td>\n",
       "  \n",
       "\n",
       "        </tr>\n",
       "        \n",
       "        <tr>\n",
       "          <th>Closed</th>\n",
       "          \n",
       "  \n",
       "    <td>0</td>\n",
       "  \n",
       "\n",
       "        </tr>\n",
       "        \n",
       "      </table>\n",
       "    </td>\n",
       "  \n",
       "\n",
       "      \n",
       "      \n",
       "    </tr>\n",
       "    \n",
       "  </table>\n",
       "\n",
       "</div>\n",
       "\n",
       "</body>\n",
       "</html>\n"
      ],
      "text/plain": [
       "<IPython.core.display.HTML object>"
      ]
     },
     "execution_count": 686,
     "metadata": {},
     "output_type": "execute_result"
    }
   ],
   "source": [
    "HTML(html)"
   ]
  },
  {
   "cell_type": "code",
   "execution_count": 687,
   "metadata": {},
   "outputs": [],
   "source": [
    "with open('index.html', 'w') as file:\n",
    "    file.write(html)"
   ]
  }
 ],
 "metadata": {
  "kernelspec": {
   "display_name": "repomanager",
   "language": "python",
   "name": "python3"
  },
  "language_info": {
   "codemirror_mode": {
    "name": "ipython",
    "version": 3
   },
   "file_extension": ".py",
   "mimetype": "text/x-python",
   "name": "python",
   "nbconvert_exporter": "python",
   "pygments_lexer": "ipython3",
   "version": "3.11.5"
  }
 },
 "nbformat": 4,
 "nbformat_minor": 2
}
