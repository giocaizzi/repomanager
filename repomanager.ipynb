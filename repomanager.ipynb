{
 "cells": [
  {
   "cell_type": "code",
   "execution_count": 33,
   "metadata": {},
   "outputs": [],
   "source": [
    "from github import Github,Auth\n",
    "from IPython.display import HTML\n",
    "from decouple import config\n",
    "from jinja2 import Environment, FileSystemLoader\n"
   ]
  },
  {
   "cell_type": "code",
   "execution_count": 34,
   "metadata": {},
   "outputs": [],
   "source": [
    "g = Github(auth=Auth.Token(config(\"GITHUB_TOKEN\")))"
   ]
  },
  {
   "cell_type": "code",
   "execution_count": 35,
   "metadata": {},
   "outputs": [
    {
     "data": {
      "text/plain": [
       "'Giorgio Caizzi'"
      ]
     },
     "execution_count": 35,
     "metadata": {},
     "output_type": "execute_result"
    }
   ],
   "source": [
    "g.get_user().name"
   ]
  },
  {
   "cell_type": "code",
   "execution_count": 36,
   "metadata": {},
   "outputs": [],
   "source": [
    "repos = [repo for repo in g.get_user().get_repos() if repo.name in [\"pysurfline\",\"py3dinterpolations\",\"repomanager\"]]"
   ]
  },
  {
   "cell_type": "code",
   "execution_count": 37,
   "metadata": {},
   "outputs": [
    {
     "data": {
      "text/plain": [
       "3"
      ]
     },
     "execution_count": 37,
     "metadata": {},
     "output_type": "execute_result"
    }
   ],
   "source": [
    "len(repos)"
   ]
  },
  {
   "cell_type": "code",
   "execution_count": 38,
   "metadata": {},
   "outputs": [],
   "source": [
    "class Repository:\n",
    "    def __init__(self,name,description,url,language):\n",
    "        self.name = name\n",
    "        self.description = description\n",
    "        self.url = url\n",
    "        self.language = language\n",
    "\n",
    "    def __repr__(self):\n",
    "        return f\"Repository({self.name},{self.description},{self.url},{self.language})\"\n"
   ]
  },
  {
   "cell_type": "code",
   "execution_count": 39,
   "metadata": {},
   "outputs": [],
   "source": [
    "repos = [\n",
    "    Repository(\n",
    "            name= repo.name,\n",
    "            language=repo.language,\n",
    "            description=repo.description,\n",
    "            url=repo.url,\n",
    "    ) for repo in repos\n",
    "]"
   ]
  },
  {
   "cell_type": "code",
   "execution_count": 40,
   "metadata": {},
   "outputs": [
    {
     "data": {
      "text/plain": [
       "[Repository(py3dinterpolations,None,https://api.github.com/repos/giocaizzi/py3dinterpolations,Python),\n",
       " Repository(pysurfline,Python Surfline API,https://api.github.com/repos/giocaizzi/pysurfline,Python),\n",
       " Repository(repomanager,None,https://api.github.com/repos/giocaizzi/repomanager,Jupyter Notebook)]"
      ]
     },
     "execution_count": 40,
     "metadata": {},
     "output_type": "execute_result"
    }
   ],
   "source": [
    "repos"
   ]
  },
  {
   "cell_type": "code",
   "execution_count": 41,
   "metadata": {},
   "outputs": [],
   "source": [
    "# Set up the environment\n",
    "env = Environment(loader=FileSystemLoader('.'))\n",
    "template = env.get_template('template.html')"
   ]
  },
  {
   "cell_type": "code",
   "execution_count": 42,
   "metadata": {},
   "outputs": [],
   "source": [
    "html = template.render(repos=repos)"
   ]
  },
  {
   "cell_type": "code",
   "execution_count": 43,
   "metadata": {},
   "outputs": [
    {
     "data": {
      "text/html": [
       "<!DOCTYPE html>\n",
       "<html>\n",
       "<head>\n",
       "<style>\n",
       "body {\n",
       "  font-family: Arial, sans-serif;\n",
       "}\n",
       "\n",
       ".container {\n",
       "  margin: 0 auto;\n",
       "  max-width: 800px;\n",
       "  padding: 20px;\n",
       "}\n",
       "\n",
       "h1 {\n",
       "  text-align: center;\n",
       "  font-size: 36px;\n",
       "  margin-bottom: 30px;\n",
       "}\n",
       "\n",
       "table {\n",
       "  width: 100%;\n",
       "  border-collapse: collapse;\n",
       "  margin-top: 30px;\n",
       "}\n",
       "\n",
       "table, th, td {\n",
       "  border: 1px solid black;\n",
       "  padding: 5px;\n",
       "}\n",
       "\n",
       "th {\n",
       "  text-align: left;\n",
       "  font-style: italic;\n",
       "  color: white;\n",
       "  background-color: #a0a0a0;\n",
       "}\n",
       "\n",
       "td a {\n",
       "  color: #0645AD;\n",
       "  text-decoration: none;\n",
       "}\n",
       "\n",
       "td a:hover {\n",
       "  text-decoration: underline;\n",
       "}\n",
       "\n",
       "td {\n",
       "  text-align: center;\n",
       "}\n",
       "\n",
       "td a {\n",
       "  color: #0645AD;\n",
       "  text-decoration: none;\n",
       "}\n",
       "\n",
       "td a:hover {\n",
       "  text-decoration: underline;\n",
       "}\n",
       "\n",
       "</style>\n",
       "</head>\n",
       "\n",
       "\n",
       "<body>\n",
       "\n",
       "<div class=\"container\">\n",
       "\n",
       "  <h1>Repository Manager</h1>\n",
       "\n",
       "  <table>\n",
       "    <tr>\n",
       "      <th>Name</th>\n",
       "      \n",
       "      <td>py3dinterpolations</td>\n",
       "      \n",
       "      <td>pysurfline</td>\n",
       "      \n",
       "      <td>repomanager</td>\n",
       "      \n",
       "    </tr>\n",
       "    <tr>\n",
       "      <th>Description</th>\n",
       "      \n",
       "      <td>None</td>\n",
       "      \n",
       "      <td>Python Surfline API</td>\n",
       "      \n",
       "      <td>None</td>\n",
       "      \n",
       "    </tr>\n",
       "    <tr>\n",
       "      <th>Language</th>\n",
       "      \n",
       "      <td>Python</td>\n",
       "      \n",
       "      <td>Python</td>\n",
       "      \n",
       "      <td>Jupyter Notebook</td>\n",
       "      \n",
       "    </tr>\n",
       "    <tr>\n",
       "      <th>URL</th>\n",
       "      \n",
       "      <td><a href=\"https://api.github.com/repos/giocaizzi/py3dinterpolations\">https://api.github.com/repos/giocaizzi/py3dinterpolations</a></td>\n",
       "      \n",
       "      <td><a href=\"https://api.github.com/repos/giocaizzi/pysurfline\">https://api.github.com/repos/giocaizzi/pysurfline</a></td>\n",
       "      \n",
       "      <td><a href=\"https://api.github.com/repos/giocaizzi/repomanager\">https://api.github.com/repos/giocaizzi/repomanager</a></td>\n",
       "      \n",
       "    </tr>\n",
       "  </table>\n",
       "\n",
       "</div>\n",
       "\n",
       "</body>\n",
       "</html>"
      ],
      "text/plain": [
       "<IPython.core.display.HTML object>"
      ]
     },
     "execution_count": 43,
     "metadata": {},
     "output_type": "execute_result"
    }
   ],
   "source": [
    "HTML(html)"
   ]
  },
  {
   "cell_type": "code",
   "execution_count": 44,
   "metadata": {},
   "outputs": [],
   "source": [
    "with open('index.html', 'w') as file:\n",
    "    file.write(html)"
   ]
  }
 ],
 "metadata": {
  "kernelspec": {
   "display_name": "repomanager",
   "language": "python",
   "name": "python3"
  },
  "language_info": {
   "codemirror_mode": {
    "name": "ipython",
    "version": 3
   },
   "file_extension": ".py",
   "mimetype": "text/x-python",
   "name": "python",
   "nbconvert_exporter": "python",
   "pygments_lexer": "ipython3",
   "version": "3.11.5"
  }
 },
 "nbformat": 4,
 "nbformat_minor": 2
}
