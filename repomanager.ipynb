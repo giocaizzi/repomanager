{
 "cells": [
  {
   "cell_type": "code",
   "execution_count": 25,
   "metadata": {},
   "outputs": [],
   "source": [
    "from github import Github,Auth\n",
    "from IPython.display import HTML\n",
    "from decouple import config\n"
   ]
  },
  {
   "cell_type": "code",
   "execution_count": 26,
   "metadata": {},
   "outputs": [],
   "source": [
    "g = Github(auth=Auth.Token(config(\"GITHUB_TOKEN\")))"
   ]
  },
  {
   "cell_type": "code",
   "execution_count": 27,
   "metadata": {},
   "outputs": [
    {
     "data": {
      "text/plain": [
       "'Giorgio Caizzi'"
      ]
     },
     "execution_count": 27,
     "metadata": {},
     "output_type": "execute_result"
    }
   ],
   "source": [
    "g.get_user().name"
   ]
  },
  {
   "cell_type": "code",
   "execution_count": 28,
   "metadata": {},
   "outputs": [],
   "source": [
    "repos = [repo for repo in g.get_user().get_repos() if repo.name in [\"pysurfline\",\"py3dinterpolations\",\"repomanager\"]]"
   ]
  },
  {
   "cell_type": "code",
   "execution_count": 29,
   "metadata": {},
   "outputs": [
    {
     "data": {
      "text/plain": [
       "3"
      ]
     },
     "execution_count": 29,
     "metadata": {},
     "output_type": "execute_result"
    }
   ],
   "source": [
    "len(repos)"
   ]
  },
  {
   "cell_type": "code",
   "execution_count": 30,
   "metadata": {},
   "outputs": [],
   "source": [
    "repos_content = []"
   ]
  },
  {
   "cell_type": "code",
   "execution_count": 31,
   "metadata": {},
   "outputs": [],
   "source": [
    "for repo in repos:\n",
    "    repos_content.append({\n",
    "        \"title\": repo.name,\n",
    "        \"language\": repo.language,\n",
    "        \"description\": repo.description,\n",
    "        \"url\": repo.html_url,\n",
    "    })"
   ]
  },
  {
   "cell_type": "code",
   "execution_count": 32,
   "metadata": {},
   "outputs": [
    {
     "data": {
      "text/plain": [
       "[{'title': 'py3dinterpolations',\n",
       "  'language': 'Python',\n",
       "  'description': None,\n",
       "  'url': 'https://github.com/giocaizzi/py3dinterpolations'},\n",
       " {'title': 'pysurfline',\n",
       "  'language': 'Python',\n",
       "  'description': 'Python Surfline API',\n",
       "  'url': 'https://github.com/giocaizzi/pysurfline'},\n",
       " {'title': 'repomanager',\n",
       "  'language': 'Jupyter Notebook',\n",
       "  'description': None,\n",
       "  'url': 'https://github.com/giocaizzi/repomanager'}]"
      ]
     },
     "execution_count": 32,
     "metadata": {},
     "output_type": "execute_result"
    }
   ],
   "source": [
    "repos_content"
   ]
  },
  {
   "cell_type": "code",
   "execution_count": 33,
   "metadata": {},
   "outputs": [],
   "source": [
    "with open('template.html', 'r') as file:\n",
    "    html_template = file.read()"
   ]
  },
  {
   "cell_type": "code",
   "execution_count": 34,
   "metadata": {},
   "outputs": [
    {
     "data": {
      "text/plain": [
       "dict_keys(['title', 'language', 'description', 'url'])"
      ]
     },
     "execution_count": 34,
     "metadata": {},
     "output_type": "execute_result"
    }
   ],
   "source": [
    "repos_content[0].keys()"
   ]
  },
  {
   "cell_type": "code",
   "execution_count": 35,
   "metadata": {},
   "outputs": [
    {
     "data": {
      "text/html": [
       "<!DOCTYPE html>\n",
       "<html>\n",
       "<head>\n",
       "<style>\n",
       "body {\n",
       "  font-family: Arial, sans-serif;\n",
       "}\n",
       "\n",
       ".container {\n",
       "  margin: 0 auto;\n",
       "  max-width: 800px;\n",
       "  padding: 20px;\n",
       "}\n",
       "\n",
       "h1 {\n",
       "  text-align: center;\n",
       "  font-size: 36px;\n",
       "  margin-bottom: 30px;\n",
       "}\n",
       "\n",
       "table {\n",
       "  width: 100%;\n",
       "  border-collapse: collapse;\n",
       "  margin-top: 30px;\n",
       "}\n",
       "\n",
       "table, th, td {\n",
       "  border: 1px solid black;\n",
       "  padding: 5px;\n",
       "}\n",
       "\n",
       "th {\n",
       "  text-align: left;\n",
       "  font-style: italic;\n",
       "  color: white;\n",
       "  background-color: #a0a0a0;\n",
       "}\n",
       "\n",
       "td a {\n",
       "  color: #0645AD;\n",
       "  text-decoration: none;\n",
       "}\n",
       "\n",
       "td a:hover {\n",
       "  text-decoration: underline;\n",
       "}\n",
       "\n",
       "td {\n",
       "  text-align: center;\n",
       "}\n",
       "\n",
       "td a {\n",
       "  color: #0645AD;\n",
       "  text-decoration: none;\n",
       "}\n",
       "\n",
       "td a:hover {\n",
       "  text-decoration: underline;\n",
       "}\n",
       "\n",
       "</style>\n",
       "</head>\n",
       "<body>\n",
       "\n",
       "<div class=\"container\">\n",
       "\n",
       "  <h1>Repository Manager</h1>\n",
       "\n",
       "  <table>\n",
       "    <tr><th>title</th><td>py3dinterpolations</td><td>pysurfline</td><td>repomanager</td></tr><tr><th>language</th><td>Python</td><td>Python</td><td>Jupyter Notebook</td></tr><tr><th>description</th><td>None</td><td>Python Surfline API</td><td>None</td></tr><tr><th>url</th><td>https://github.com/giocaizzi/py3dinterpolations</td><td>https://github.com/giocaizzi/pysurfline</td><td>https://github.com/giocaizzi/repomanager</td></tr>\n",
       "  </table>\n",
       "\n",
       "</div>\n",
       "\n",
       "</body>\n",
       "</html>"
      ],
      "text/plain": [
       "<IPython.core.display.HTML object>"
      ]
     },
     "execution_count": 35,
     "metadata": {},
     "output_type": "execute_result"
    }
   ],
   "source": [
    "# Prepare the table rows\n",
    "table_rows = ''\n",
    "for key in repos_content[0].keys():\n",
    "    table_rows += f'<tr><th>{key}</th>'\n",
    "    for item in repos_content:\n",
    "        table_rows += f'<td>{item[key]}</td>'\n",
    "    table_rows += '</tr>'\n",
    "\n",
    "# Replace the placeholder in the template with the table rows\n",
    "html = html_template.replace('{table_rows}', table_rows)\n",
    "HTML(html)"
   ]
  },
  {
   "cell_type": "code",
   "execution_count": 36,
   "metadata": {},
   "outputs": [],
   "source": [
    "with open('index.html', 'w') as file:\n",
    "    file.write(html)"
   ]
  }
 ],
 "metadata": {
  "kernelspec": {
   "display_name": "repomanager",
   "language": "python",
   "name": "python3"
  },
  "language_info": {
   "codemirror_mode": {
    "name": "ipython",
    "version": 3
   },
   "file_extension": ".py",
   "mimetype": "text/x-python",
   "name": "python",
   "nbconvert_exporter": "python",
   "pygments_lexer": "ipython3",
   "version": "3.11.5"
  }
 },
 "nbformat": 4,
 "nbformat_minor": 2
}
