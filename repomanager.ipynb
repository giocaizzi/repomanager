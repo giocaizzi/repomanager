{
 "cells": [
  {
   "cell_type": "code",
   "execution_count": 1,
   "metadata": {},
   "outputs": [],
   "source": [
    "%load_ext autoreload\n",
    "%autoreload 2"
   ]
  },
  {
   "cell_type": "code",
   "execution_count": 2,
   "metadata": {},
   "outputs": [],
   "source": [
    "from decouple import config"
   ]
  },
  {
   "cell_type": "code",
   "execution_count": 3,
   "metadata": {},
   "outputs": [],
   "source": [
    "from repomanager.github import  User, Repository"
   ]
  },
  {
   "cell_type": "code",
   "execution_count": 4,
   "metadata": {},
   "outputs": [],
   "source": [
    "user = User(config(\"GITHUB_TOKEN\"))"
   ]
  },
  {
   "cell_type": "code",
   "execution_count": 5,
   "metadata": {},
   "outputs": [
    {
     "data": {
      "text/plain": [
       "GithubClient(login=giocaizzi, repos=18)"
      ]
     },
     "execution_count": 5,
     "metadata": {},
     "output_type": "execute_result"
    }
   ],
   "source": [
    "user"
   ]
  },
  {
   "cell_type": "markdown",
   "metadata": {},
   "source": [
    "## Repository info"
   ]
  },
  {
   "cell_type": "code",
   "execution_count": 6,
   "metadata": {},
   "outputs": [
    {
     "data": {
      "text/plain": [
       "Repository(name=aecom_3dmodels)"
      ]
     },
     "execution_count": 6,
     "metadata": {},
     "output_type": "execute_result"
    }
   ],
   "source": [
    "user.repos[0]"
   ]
  },
  {
   "cell_type": "code",
   "execution_count": 7,
   "metadata": {},
   "outputs": [
    {
     "name": "stdout",
     "output_type": "stream",
     "text": [
      "description None\n",
      "language Jupyter Notebook\n",
      "name aecom_3dmodels\n",
      "owner giocaizzi\n",
      "pages False\n",
      "private True\n",
      "stars 0\n",
      "url https://github.com/giocaizzi/aecom_3dmodels\n"
     ]
    }
   ],
   "source": [
    "for attr,value in user.repos[0]:\n",
    "    print(attr,value)"
   ]
  },
  {
   "cell_type": "code",
   "execution_count": 8,
   "metadata": {},
   "outputs": [
    {
     "data": {
      "text/plain": [
       "'https://github.com/giocaizzi/aecom_3dmodels'"
      ]
     },
     "execution_count": 8,
     "metadata": {},
     "output_type": "execute_result"
    }
   ],
   "source": [
    "user.repos[0].url"
   ]
  },
  {
   "cell_type": "code",
   "execution_count": 10,
   "metadata": {},
   "outputs": [
    {
     "ename": "NameError",
     "evalue": "name 'repos' is not defined",
     "output_type": "error",
     "traceback": [
      "\u001b[0;31m---------------------------------------------------------------------------\u001b[0m",
      "\u001b[0;31mNameError\u001b[0m                                 Traceback (most recent call last)",
      "\u001b[1;32m/Users/giorgiocaizzi/Documents/GitHub/repomanager/repomanager.ipynb Cell 10\u001b[0m line \u001b[0;36m3\n\u001b[1;32m      <a href='vscode-notebook-cell:/Users/giorgiocaizzi/Documents/GitHub/repomanager/repomanager.ipynb#X16sZmlsZQ%3D%3D?line=0'>1</a>\u001b[0m repo_contents \u001b[39m=\u001b[39m [\n\u001b[1;32m      <a href='vscode-notebook-cell:/Users/giorgiocaizzi/Documents/GitHub/repomanager/repomanager.ipynb#X16sZmlsZQ%3D%3D?line=1'>2</a>\u001b[0m     {\n\u001b[1;32m      <a href='vscode-notebook-cell:/Users/giorgiocaizzi/Documents/GitHub/repomanager/repomanager.ipynb#X16sZmlsZQ%3D%3D?line=2'>3</a>\u001b[0m         \u001b[39m\"\u001b[39m\u001b[39mName\u001b[39m\u001b[39m\"\u001b[39m: repo\u001b[39m.\u001b[39mname,\n\u001b[1;32m      <a href='vscode-notebook-cell:/Users/giorgiocaizzi/Documents/GitHub/repomanager/repomanager.ipynb#X16sZmlsZQ%3D%3D?line=3'>4</a>\u001b[0m         \u001b[39m\"\u001b[39m\u001b[39mLanguage\u001b[39m\u001b[39m\"\u001b[39m: repo\u001b[39m.\u001b[39mlanguage,\n\u001b[1;32m      <a href='vscode-notebook-cell:/Users/giorgiocaizzi/Documents/GitHub/repomanager/repomanager.ipynb#X16sZmlsZQ%3D%3D?line=4'>5</a>\u001b[0m         \u001b[39m\"\u001b[39m\u001b[39mDescription\u001b[39m\u001b[39m\"\u001b[39m: repo\u001b[39m.\u001b[39mdescription,\n\u001b[1;32m      <a href='vscode-notebook-cell:/Users/giorgiocaizzi/Documents/GitHub/repomanager/repomanager.ipynb#X16sZmlsZQ%3D%3D?line=5'>6</a>\u001b[0m         \u001b[39m\"\u001b[39m\u001b[39mUrl\u001b[39m\u001b[39m\"\u001b[39m: repo\u001b[39m.\u001b[39mhtml_url,\n\u001b[1;32m      <a href='vscode-notebook-cell:/Users/giorgiocaizzi/Documents/GitHub/repomanager/repomanager.ipynb#X16sZmlsZQ%3D%3D?line=6'>7</a>\u001b[0m         \u001b[39m\"\u001b[39m\u001b[39mStars\u001b[39m\u001b[39m\"\u001b[39m: repo\u001b[39m.\u001b[39mstargazers_count,\n\u001b[1;32m      <a href='vscode-notebook-cell:/Users/giorgiocaizzi/Documents/GitHub/repomanager/repomanager.ipynb#X16sZmlsZQ%3D%3D?line=7'>8</a>\u001b[0m         \u001b[39m\"\u001b[39m\u001b[39mIssues\u001b[39m\u001b[39m\"\u001b[39m: {\n\u001b[1;32m      <a href='vscode-notebook-cell:/Users/giorgiocaizzi/Documents/GitHub/repomanager/repomanager.ipynb#X16sZmlsZQ%3D%3D?line=8'>9</a>\u001b[0m             \u001b[39m\"\u001b[39m\u001b[39mOpen\u001b[39m\u001b[39m\"\u001b[39m: \u001b[39msum\u001b[39m([issue\u001b[39m.\u001b[39mstate \u001b[39m==\u001b[39m \u001b[39m\"\u001b[39m\u001b[39mopen\u001b[39m\u001b[39m\"\u001b[39m \u001b[39mfor\u001b[39;00m issue \u001b[39min\u001b[39;00m repo\u001b[39m.\u001b[39mget_issues()]),\n\u001b[1;32m     <a href='vscode-notebook-cell:/Users/giorgiocaizzi/Documents/GitHub/repomanager/repomanager.ipynb#X16sZmlsZQ%3D%3D?line=9'>10</a>\u001b[0m             \u001b[39m\"\u001b[39m\u001b[39mTotal\u001b[39m\u001b[39m\"\u001b[39m: repo\u001b[39m.\u001b[39mget_issues()\u001b[39m.\u001b[39mtotalCount,\n\u001b[1;32m     <a href='vscode-notebook-cell:/Users/giorgiocaizzi/Documents/GitHub/repomanager/repomanager.ipynb#X16sZmlsZQ%3D%3D?line=10'>11</a>\u001b[0m         },\n\u001b[1;32m     <a href='vscode-notebook-cell:/Users/giorgiocaizzi/Documents/GitHub/repomanager/repomanager.ipynb#X16sZmlsZQ%3D%3D?line=11'>12</a>\u001b[0m         \u001b[39m\"\u001b[39m\u001b[39mPull Requests\u001b[39m\u001b[39m\"\u001b[39m: {\n\u001b[1;32m     <a href='vscode-notebook-cell:/Users/giorgiocaizzi/Documents/GitHub/repomanager/repomanager.ipynb#X16sZmlsZQ%3D%3D?line=12'>13</a>\u001b[0m             \u001b[39m\"\u001b[39m\u001b[39mOpen\u001b[39m\u001b[39m\"\u001b[39m: \u001b[39msum\u001b[39m([issue\u001b[39m.\u001b[39mstate \u001b[39m==\u001b[39m \u001b[39m\"\u001b[39m\u001b[39mopen\u001b[39m\u001b[39m\"\u001b[39m \u001b[39mfor\u001b[39;00m issue \u001b[39min\u001b[39;00m repo\u001b[39m.\u001b[39mget_pulls()]),\n\u001b[1;32m     <a href='vscode-notebook-cell:/Users/giorgiocaizzi/Documents/GitHub/repomanager/repomanager.ipynb#X16sZmlsZQ%3D%3D?line=13'>14</a>\u001b[0m             \u001b[39m\"\u001b[39m\u001b[39mTotal\u001b[39m\u001b[39m\"\u001b[39m: repo\u001b[39m.\u001b[39mget_pulls()\u001b[39m.\u001b[39mtotalCount,\n\u001b[1;32m     <a href='vscode-notebook-cell:/Users/giorgiocaizzi/Documents/GitHub/repomanager/repomanager.ipynb#X16sZmlsZQ%3D%3D?line=14'>15</a>\u001b[0m         },\n\u001b[1;32m     <a href='vscode-notebook-cell:/Users/giorgiocaizzi/Documents/GitHub/repomanager/repomanager.ipynb#X16sZmlsZQ%3D%3D?line=15'>16</a>\u001b[0m         \u001b[39m\"\u001b[39m\u001b[39mBranches\u001b[39m\u001b[39m\"\u001b[39m: {\n\u001b[1;32m     <a href='vscode-notebook-cell:/Users/giorgiocaizzi/Documents/GitHub/repomanager/repomanager.ipynb#X16sZmlsZQ%3D%3D?line=16'>17</a>\u001b[0m             \u001b[39m\"\u001b[39m\u001b[39mDefault\u001b[39m\u001b[39m\"\u001b[39m: repo\u001b[39m.\u001b[39mdefault_branch,\n\u001b[1;32m     <a href='vscode-notebook-cell:/Users/giorgiocaizzi/Documents/GitHub/repomanager/repomanager.ipynb#X16sZmlsZQ%3D%3D?line=17'>18</a>\u001b[0m             \u001b[39m\"\u001b[39m\u001b[39mBranches\u001b[39m\u001b[39m\"\u001b[39m: [branch\u001b[39m.\u001b[39mname \u001b[39mfor\u001b[39;00m branch \u001b[39min\u001b[39;00m repo\u001b[39m.\u001b[39mget_branches()],\n\u001b[1;32m     <a href='vscode-notebook-cell:/Users/giorgiocaizzi/Documents/GitHub/repomanager/repomanager.ipynb#X16sZmlsZQ%3D%3D?line=18'>19</a>\u001b[0m             \u001b[39m\"\u001b[39m\u001b[39mTotal\u001b[39m\u001b[39m\"\u001b[39m: repo\u001b[39m.\u001b[39mget_branches()\u001b[39m.\u001b[39mtotalCount,\n\u001b[1;32m     <a href='vscode-notebook-cell:/Users/giorgiocaizzi/Documents/GitHub/repomanager/repomanager.ipynb#X16sZmlsZQ%3D%3D?line=19'>20</a>\u001b[0m         },\n\u001b[1;32m     <a href='vscode-notebook-cell:/Users/giorgiocaizzi/Documents/GitHub/repomanager/repomanager.ipynb#X16sZmlsZQ%3D%3D?line=20'>21</a>\u001b[0m         \u001b[39m\"\u001b[39m\u001b[39mForks\u001b[39m\u001b[39m\"\u001b[39m: {\n\u001b[1;32m     <a href='vscode-notebook-cell:/Users/giorgiocaizzi/Documents/GitHub/repomanager/repomanager.ipynb#X16sZmlsZQ%3D%3D?line=21'>22</a>\u001b[0m             \u001b[39m\"\u001b[39m\u001b[39mForks\u001b[39m\u001b[39m\"\u001b[39m: [fork\u001b[39m.\u001b[39mfull_name \u001b[39mfor\u001b[39;00m fork \u001b[39min\u001b[39;00m repo\u001b[39m.\u001b[39mget_forks()],\n\u001b[1;32m     <a href='vscode-notebook-cell:/Users/giorgiocaizzi/Documents/GitHub/repomanager/repomanager.ipynb#X16sZmlsZQ%3D%3D?line=22'>23</a>\u001b[0m             \u001b[39m\"\u001b[39m\u001b[39mTotal\u001b[39m\u001b[39m\"\u001b[39m: repo\u001b[39m.\u001b[39mforks_count,\n\u001b[1;32m     <a href='vscode-notebook-cell:/Users/giorgiocaizzi/Documents/GitHub/repomanager/repomanager.ipynb#X16sZmlsZQ%3D%3D?line=23'>24</a>\u001b[0m         },\n\u001b[1;32m     <a href='vscode-notebook-cell:/Users/giorgiocaizzi/Documents/GitHub/repomanager/repomanager.ipynb#X16sZmlsZQ%3D%3D?line=24'>25</a>\u001b[0m         \u001b[39m\"\u001b[39m\u001b[39mPages\u001b[39m\u001b[39m\"\u001b[39m: repo\u001b[39m.\u001b[39mhas_pages,\n\u001b[1;32m     <a href='vscode-notebook-cell:/Users/giorgiocaizzi/Documents/GitHub/repomanager/repomanager.ipynb#X16sZmlsZQ%3D%3D?line=25'>26</a>\u001b[0m         \u001b[39m\"\u001b[39m\u001b[39mCollaborators\u001b[39m\u001b[39m\"\u001b[39m: {\n\u001b[1;32m     <a href='vscode-notebook-cell:/Users/giorgiocaizzi/Documents/GitHub/repomanager/repomanager.ipynb#X16sZmlsZQ%3D%3D?line=26'>27</a>\u001b[0m             \u001b[39m\"\u001b[39m\u001b[39mCollaborators\u001b[39m\u001b[39m\"\u001b[39m: [\n\u001b[1;32m     <a href='vscode-notebook-cell:/Users/giorgiocaizzi/Documents/GitHub/repomanager/repomanager.ipynb#X16sZmlsZQ%3D%3D?line=27'>28</a>\u001b[0m                 collaborator\u001b[39m.\u001b[39mlogin \u001b[39mfor\u001b[39;00m collaborator \u001b[39min\u001b[39;00m repo\u001b[39m.\u001b[39mget_collaborators()\n\u001b[1;32m     <a href='vscode-notebook-cell:/Users/giorgiocaizzi/Documents/GitHub/repomanager/repomanager.ipynb#X16sZmlsZQ%3D%3D?line=28'>29</a>\u001b[0m             ],\n\u001b[1;32m     <a href='vscode-notebook-cell:/Users/giorgiocaizzi/Documents/GitHub/repomanager/repomanager.ipynb#X16sZmlsZQ%3D%3D?line=29'>30</a>\u001b[0m             \u001b[39m\"\u001b[39m\u001b[39mTotal\u001b[39m\u001b[39m\"\u001b[39m: repo\u001b[39m.\u001b[39mget_collaborators()\u001b[39m.\u001b[39mtotalCount,\n\u001b[1;32m     <a href='vscode-notebook-cell:/Users/giorgiocaizzi/Documents/GitHub/repomanager/repomanager.ipynb#X16sZmlsZQ%3D%3D?line=30'>31</a>\u001b[0m         },\n\u001b[1;32m     <a href='vscode-notebook-cell:/Users/giorgiocaizzi/Documents/GitHub/repomanager/repomanager.ipynb#X16sZmlsZQ%3D%3D?line=31'>32</a>\u001b[0m         \u001b[39m\"\u001b[39m\u001b[39mWorkflows\u001b[39m\u001b[39m\"\u001b[39m: {\n\u001b[1;32m     <a href='vscode-notebook-cell:/Users/giorgiocaizzi/Documents/GitHub/repomanager/repomanager.ipynb#X16sZmlsZQ%3D%3D?line=32'>33</a>\u001b[0m             \u001b[39m\"\u001b[39m\u001b[39mWorkflows\u001b[39m\u001b[39m\"\u001b[39m: [workflow\u001b[39m.\u001b[39mname \u001b[39mfor\u001b[39;00m workflow \u001b[39min\u001b[39;00m repo\u001b[39m.\u001b[39mget_workflows()],\n\u001b[1;32m     <a href='vscode-notebook-cell:/Users/giorgiocaizzi/Documents/GitHub/repomanager/repomanager.ipynb#X16sZmlsZQ%3D%3D?line=33'>34</a>\u001b[0m             \u001b[39m\"\u001b[39m\u001b[39mTotal\u001b[39m\u001b[39m\"\u001b[39m: repo\u001b[39m.\u001b[39mget_workflows()\u001b[39m.\u001b[39mtotalCount,\n\u001b[1;32m     <a href='vscode-notebook-cell:/Users/giorgiocaizzi/Documents/GitHub/repomanager/repomanager.ipynb#X16sZmlsZQ%3D%3D?line=34'>35</a>\u001b[0m         },\n\u001b[1;32m     <a href='vscode-notebook-cell:/Users/giorgiocaizzi/Documents/GitHub/repomanager/repomanager.ipynb#X16sZmlsZQ%3D%3D?line=35'>36</a>\u001b[0m     }\n\u001b[0;32m---> <a href='vscode-notebook-cell:/Users/giorgiocaizzi/Documents/GitHub/repomanager/repomanager.ipynb#X16sZmlsZQ%3D%3D?line=36'>37</a>\u001b[0m     \u001b[39mfor\u001b[39;00m repo \u001b[39min\u001b[39;00m repos\n\u001b[1;32m     <a href='vscode-notebook-cell:/Users/giorgiocaizzi/Documents/GitHub/repomanager/repomanager.ipynb#X16sZmlsZQ%3D%3D?line=37'>38</a>\u001b[0m ]\n",
      "\u001b[0;31mNameError\u001b[0m: name 'repos' is not defined"
     ]
    }
   ],
   "source": [
    "repo_contents = [\n",
    "    {\n",
    "        \"Name\": repo.name,\n",
    "        \"Language\": repo.language,\n",
    "        \"Description\": repo.description,\n",
    "        \"Url\": repo.html_url,\n",
    "        \"Stars\": repo.stargazers_count,\n",
    "        \"Issues\": {\n",
    "            \"Open\": sum([issue.state == \"open\" for issue in repo.get_issues()]),\n",
    "            \"Total\": repo.get_issues().totalCount,\n",
    "        },\n",
    "        \"Pull Requests\": {\n",
    "            \"Open\": sum([issue.state == \"open\" for issue in repo.get_pulls()]),\n",
    "            \"Total\": repo.get_pulls().totalCount,\n",
    "        },\n",
    "        \"Branches\": {\n",
    "            \"Default\": repo.default_branch,\n",
    "            \"Branches\": [branch.name for branch in repo.get_branches()],\n",
    "            \"Total\": repo.get_branches().totalCount,\n",
    "        },\n",
    "        \"Forks\": {\n",
    "            \"Forks\": [fork.full_name for fork in repo.get_forks()],\n",
    "            \"Total\": repo.forks_count,\n",
    "        },\n",
    "        \"Pages\": repo.has_pages,\n",
    "        \"Collaborators\": {\n",
    "            \"Collaborators\": [\n",
    "                collaborator.login for collaborator in repo.get_collaborators()\n",
    "            ],\n",
    "            \"Total\": repo.get_collaborators().totalCount,\n",
    "        },\n",
    "        \"Workflows\": {\n",
    "            \"Workflows\": [workflow.name for workflow in repo.get_workflows()],\n",
    "            \"Total\": repo.get_workflows().totalCount,\n",
    "        },\n",
    "    }\n",
    "    for repo in repos\n",
    "]"
   ]
  },
  {
   "cell_type": "code",
   "execution_count": null,
   "metadata": {},
   "outputs": [],
   "source": [
    "# Set up the environment\n",
    "env = Environment(loader=FileSystemLoader('.'),extensions=['jinja2.ext.loopcontrols'])\n",
    "template = env.get_template('template.html')"
   ]
  },
  {
   "cell_type": "code",
   "execution_count": null,
   "metadata": {},
   "outputs": [],
   "source": [
    "# custom filter jinja2\n",
    "\n",
    "def is_true(value):\n",
    "    return isinstance(value, bool) and value\n",
    "\n",
    "def is_false(value):\n",
    "    return isinstance(value, bool) and not value\n",
    "\n",
    "# Add the filter to the Jinja2 environment\n",
    "env.filters['is_true'] = is_true\n",
    "env.filters['is_false'] = is_false"
   ]
  },
  {
   "cell_type": "code",
   "execution_count": null,
   "metadata": {},
   "outputs": [],
   "source": [
    "# html = template.render(repos=[vars(repo) for repo in repos])\n",
    "html = template.render(repos=repo_contents)"
   ]
  },
  {
   "cell_type": "code",
   "execution_count": null,
   "metadata": {},
   "outputs": [],
   "source": [
    "HTML(html)"
   ]
  },
  {
   "cell_type": "code",
   "execution_count": null,
   "metadata": {},
   "outputs": [],
   "source": [
    "with open('index.html', 'w') as file:\n",
    "    file.write(html)"
   ]
  }
 ],
 "metadata": {
  "kernelspec": {
   "display_name": "repomanager",
   "language": "python",
   "name": "python3"
  },
  "language_info": {
   "codemirror_mode": {
    "name": "ipython",
    "version": 3
   },
   "file_extension": ".py",
   "mimetype": "text/x-python",
   "name": "python",
   "nbconvert_exporter": "python",
   "pygments_lexer": "ipython3",
   "version": "3.11.5"
  }
 },
 "nbformat": 4,
 "nbformat_minor": 2
}
