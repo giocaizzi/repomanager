{
 "cells": [
  {
   "cell_type": "code",
   "execution_count": 123,
   "metadata": {},
   "outputs": [
    {
     "name": "stdout",
     "output_type": "stream",
     "text": [
      "The autoreload extension is already loaded. To reload it, use:\n",
      "  %reload_ext autoreload\n"
     ]
    }
   ],
   "source": [
    "%load_ext autoreload\n",
    "%autoreload 2"
   ]
  },
  {
   "cell_type": "code",
   "execution_count": 124,
   "metadata": {},
   "outputs": [],
   "source": [
    "from dotenv import load_dotenv\n",
    "import os"
   ]
  },
  {
   "cell_type": "code",
   "execution_count": 125,
   "metadata": {},
   "outputs": [],
   "source": [
    "from repomanager.github.github import User"
   ]
  },
  {
   "cell_type": "code",
   "execution_count": 126,
   "metadata": {},
   "outputs": [
    {
     "data": {
      "text/plain": [
       "True"
      ]
     },
     "execution_count": 126,
     "metadata": {},
     "output_type": "execute_result"
    }
   ],
   "source": [
    "load_dotenv()"
   ]
  },
  {
   "cell_type": "code",
   "execution_count": 127,
   "metadata": {},
   "outputs": [],
   "source": [
    "user = User(os.environ['GITHUB_TOKEN'])"
   ]
  },
  {
   "cell_type": "code",
   "execution_count": 128,
   "metadata": {},
   "outputs": [
    {
     "data": {
      "text/plain": [
       "GithubClient(login=giocaizzi, repos=18)"
      ]
     },
     "execution_count": 128,
     "metadata": {},
     "output_type": "execute_result"
    }
   ],
   "source": [
    "user"
   ]
  },
  {
   "cell_type": "markdown",
   "metadata": {},
   "source": [
    "## Repository info"
   ]
  },
  {
   "cell_type": "code",
   "execution_count": 129,
   "metadata": {},
   "outputs": [],
   "source": [
    "for i in user.repos:\n",
    "    if i.name=='repomanager':\n",
    "        repo = i"
   ]
  },
  {
   "cell_type": "code",
   "execution_count": 130,
   "metadata": {},
   "outputs": [
    {
     "name": "stdout",
     "output_type": "stream",
     "text": [
      "default_branch main\n",
      "description None\n",
      "fork False\n",
      "language Python\n",
      "name repomanager\n",
      "owner giocaizzi\n",
      "pages False\n",
      "private False\n",
      "stars 0\n",
      "topics []\n",
      "url https://github.com/giocaizzi/repomanager\n"
     ]
    }
   ],
   "source": [
    "for attr,value in repo:\n",
    "    print(attr,value)"
   ]
  },
  {
   "cell_type": "code",
   "execution_count": 134,
   "metadata": {},
   "outputs": [
    {
     "data": {
      "text/plain": [
       "{'_requester': <github.Requester.Requester at 0x1095827d0>,\n",
       " '_commit': <github.GithubObject._ValuedAttribute at 0x1095fbad0>,\n",
       " '_name': <github.GithubObject._ValuedAttribute at 0x1095fb990>,\n",
       " '_protection_url': <github.GithubObject._ValuedAttribute at 0x1095fb750>,\n",
       " '_protected': <github.GithubObject._ValuedAttribute at 0x1095fb0d0>,\n",
       " '_headers': {'server': 'GitHub.com',\n",
       "  'date': 'Sat, 11 Nov 2023 22:38:52 GMT',\n",
       "  'content-type': 'application/json; charset=utf-8',\n",
       "  'transfer-encoding': 'chunked',\n",
       "  'cache-control': 'private, max-age=60, s-maxage=60',\n",
       "  'vary': 'Accept, Authorization, Cookie, X-GitHub-OTP, Accept-Encoding, Accept, X-Requested-With',\n",
       "  'etag': 'W/\"fb0776dbfb76c2e2a03e12b1c2162ae8946806d50e9c271eb6c6a6f7eeec1a4f\"',\n",
       "  'x-oauth-scopes': 'repo',\n",
       "  'x-accepted-oauth-scopes': '',\n",
       "  'x-github-media-type': 'github.v3; format=json',\n",
       "  'x-github-api-version-selected': '2022-11-28',\n",
       "  'x-ratelimit-limit': '5000',\n",
       "  'x-ratelimit-remaining': '4777',\n",
       "  'x-ratelimit-reset': '1699742720',\n",
       "  'x-ratelimit-used': '223',\n",
       "  'x-ratelimit-resource': 'core',\n",
       "  'access-control-expose-headers': 'ETag, Link, Location, Retry-After, X-GitHub-OTP, X-RateLimit-Limit, X-RateLimit-Remaining, X-RateLimit-Used, X-RateLimit-Resource, X-RateLimit-Reset, X-OAuth-Scopes, X-Accepted-OAuth-Scopes, X-Poll-Interval, X-GitHub-Media-Type, X-GitHub-SSO, X-GitHub-Request-Id, Deprecation, Sunset',\n",
       "  'access-control-allow-origin': '*',\n",
       "  'strict-transport-security': 'max-age=31536000; includeSubdomains; preload',\n",
       "  'x-frame-options': 'deny',\n",
       "  'x-content-type-options': 'nosniff',\n",
       "  'x-xss-protection': '0',\n",
       "  'referrer-policy': 'origin-when-cross-origin, strict-origin-when-cross-origin',\n",
       "  'content-security-policy': \"default-src 'none'\",\n",
       "  'content-encoding': 'gzip',\n",
       "  'x-github-request-id': '6CBE:13101:24806E83:24F12E31:6550026F'},\n",
       " '_rawData': {'name': 'main',\n",
       "  'commit': {'sha': 'd5854c3622a9a3157c8aee961cd210f20ad6b80e',\n",
       "   'url': 'https://api.github.com/repos/giocaizzi/repomanager/commits/d5854c3622a9a3157c8aee961cd210f20ad6b80e'},\n",
       "  'protected': False,\n",
       "  'protection': {'enabled': False,\n",
       "   'required_status_checks': {'enforcement_level': 'off',\n",
       "    'contexts': [],\n",
       "    'checks': []}},\n",
       "  'protection_url': 'https://api.github.com/repos/giocaizzi/repomanager/branches/main/protection'}}"
      ]
     },
     "execution_count": 134,
     "metadata": {},
     "output_type": "execute_result"
    }
   ],
   "source": [
    "repo.get_branches()[0].__dict__"
   ]
  },
  {
   "cell_type": "code",
   "execution_count": 132,
   "metadata": {},
   "outputs": [
    {
     "data": {
      "text/plain": [
       "[ContentFile(path=\".gitignore\"),\n",
       " ContentFile(path=\"pyproject.toml\"),\n",
       " ContentFile(path=\"repomanager/__init__.py\"),\n",
       " ContentFile(path=\"repomanager/app.py\"),\n",
       " ContentFile(path=\"repomanager/github.py\"),\n",
       " ContentFile(path=\"repomanager/static/styles.css\"),\n",
       " ContentFile(path=\"repomanager/templates/about.html\"),\n",
       " ContentFile(path=\"repomanager/templates/base-centered.html\"),\n",
       " ContentFile(path=\"repomanager/templates/base.html\"),\n",
       " ContentFile(path=\"repomanager/templates/error.html\"),\n",
       " ContentFile(path=\"repomanager/templates/home.html\"),\n",
       " ContentFile(path=\"repomanager/templates/login.html\"),\n",
       " ContentFile(path=\"repomanager/templates/repo.html\"),\n",
       " ContentFile(path=\"repomanager/templates/repos.html\"),\n",
       " ContentFile(path=\"repomanager/templates/user.html\"),\n",
       " ContentFile(path=\"repomanager/static/img/JavaScript.png\"),\n",
       " ContentFile(path=\"repomanager/static/img/Python.png\"),\n",
       " ContentFile(path=\"repomanager/static/img/Tex.png\"),\n",
       " ContentFile(path=\"repomanager/static/img/github.png\"),\n",
       " ContentFile(path=\"repomanager/static/img/jupyter_notebook.png\"),\n",
       " ContentFile(path=\"repomanager/static/img/private.png\"),\n",
       " ContentFile(path=\"repomanager/static/img/public.png\"),\n",
       " ContentFile(path=\"repomanager/static/img/star.png\")]"
      ]
     },
     "execution_count": 132,
     "metadata": {},
     "output_type": "execute_result"
    }
   ],
   "source": [
    "repo.get_branch_content().files"
   ]
  },
  {
   "cell_type": "code",
   "execution_count": null,
   "metadata": {},
   "outputs": [],
   "source": []
  }
 ],
 "metadata": {
  "kernelspec": {
   "display_name": "repomanager",
   "language": "python",
   "name": "python3"
  },
  "language_info": {
   "codemirror_mode": {
    "name": "ipython",
    "version": 3
   },
   "file_extension": ".py",
   "mimetype": "text/x-python",
   "name": "python",
   "nbconvert_exporter": "python",
   "pygments_lexer": "ipython3",
   "version": "3.11.6"
  }
 },
 "nbformat": 4,
 "nbformat_minor": 2
}
